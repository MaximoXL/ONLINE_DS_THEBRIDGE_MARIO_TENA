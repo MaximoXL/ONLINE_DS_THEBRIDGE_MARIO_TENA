{
 "cells": [
  {
   "cell_type": "code",
   "execution_count": null,
   "metadata": {},
   "outputs": [],
   "source": [
    "def coloca_barco_plus(tablero, barco):\n",
    "    # Nos devuelve el tablero si puede colocar el barco, si no devuelve False, y avise por pantalla\n",
    "    tablero_temp = tablero.copy()\n",
    "    num_max_filas = tablero.shape[0]\n",
    "    num_max_columnas = tablero.shape[1]\n",
    "    for pieza in barco:\n",
    "        fila = pieza[0]\n",
    "        columna = pieza[1]\n",
    "        if fila < 0  or fila >= num_max_filas:\n",
    "            print(f\"No puedo poner la pieza {pieza} porque se sale del tablero\")\n",
    "            return False      \n",
    "        if columna <0 or columna>= num_max_columnas:\n",
    "            print(f\"No puedo poner la pieza {pieza} porque se sale del tablero\")\n",
    "            return False\n",
    "        if tablero[pieza] == \"O\" or tablero[pieza] == \"X\":\n",
    "            print(f\"No puedo poner la pieza {pieza} porque hay otro barco\")\n",
    "            return False\n",
    "        tablero_temp[pieza] = \"O\"\n",
    "    return tablero_temp\n",
    "\n",
    "def crea_barco_aleatorio(tablero,eslora = 4, num_intentos = 100):\n",
    "    num_max_filas = tablero.shape[0]\n",
    "    num_max_columnas = tablero.shape[1]\n",
    "    while True: #manejar la salida de este bucle con el número de intentos\n",
    "        barco = []\n",
    "        # Construimos el hipotetico barco\n",
    "        pieza_original = (random.randint(0,num_max_filas-1),random.randint(0, num_max_columnas -1))\n",
    "        print(\"Pieza original:\", pieza_original)\n",
    "        barco.append(pieza_original)\n",
    "        orientacion = random.choice([\"N\",\"S\",\"O\",\"E\"])\n",
    "        print(\"Con orientacion\", orientacion)\n",
    "        fila = pieza_original[0]\n",
    "        columna = pieza_original[1]\n",
    "        for i in range(eslora -1):\n",
    "            if orientacion == \"N\":\n",
    "                fila -= 1\n",
    "            elif orientacion  == \"S\":\n",
    "                fila += 1\n",
    "            elif orientacion == \"E\":\n",
    "                columna += 1\n",
    "            else:\n",
    "                columna -= 1\n",
    "            pieza = (fila,columna)\n",
    "            barco.append(pieza)\n",
    "        tablero_temp = coloca_barco_plus(tablero, barco)\n",
    "        if type(tablero_temp) == np.ndarray:\n",
    "            return tablero_temp\n",
    "        print(\"Tengo que intentar colocar otro barco\")"
   ]
  }
 ],
 "metadata": {
  "kernelspec": {
   "display_name": "Python 3",
   "language": "python",
   "name": "python3"
  },
  "language_info": {
   "codemirror_mode": {
    "name": "ipython",
    "version": 3
   },
   "file_extension": ".py",
   "mimetype": "text/x-python",
   "name": "python",
   "nbconvert_exporter": "python",
   "pygments_lexer": "ipython3",
   "version": "3.12.4"
  },
  "orig_nbformat": 4
 },
 "nbformat": 4,
 "nbformat_minor": 2
}
