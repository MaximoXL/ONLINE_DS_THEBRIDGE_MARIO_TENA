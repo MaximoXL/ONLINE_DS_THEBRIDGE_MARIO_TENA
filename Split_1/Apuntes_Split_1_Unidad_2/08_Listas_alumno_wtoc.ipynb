{
 "cells": [
  {
   "cell_type": "markdown",
   "metadata": {},
   "source": [
    "<img src = \"./img/TheBridge_logo_RGB_color.jpg\" width = 500>\n",
    "<img src = \"./img/python.jpg\" width = 500>"
   ]
  },
  {
   "cell_type": "markdown",
   "metadata": {},
   "source": [
    "# Python Basics I"
   ]
  },
  {
   "cell_type": "markdown",
   "metadata": {},
   "source": [
    "## Contenidos"
   ]
  },
  {
   "cell_type": "markdown",
   "metadata": {},
   "source": [
    "* [Listas](#Listas)\n",
    "\n",
    "* [Métodos en Listas](#Metodos-en-Listas)\n",
    "\n"
   ]
  },
  {
   "cell_type": "markdown",
   "metadata": {},
   "source": [
    "## Listas\n",
    "[al indice](#Contenidos)  \n",
    "\n",
    "Se trata de otro de los tipos de datos de Python más usados. Dentro de las colecciones, que veremos más adelante, la lista es la colección que normalmente se le da más uso. **Nos permiten almacenar conjuntos de variables u objetos**, y son elementos de lo más versátiles puesto que podemos almacenar objetos de distintos tipos, modificarlos, eliminarlos, meter listas dentro de listas... Sus dos caractrísticas principales son:\n",
    "* **Mutables**: una vez se ha creado la lista, se puede modificar\n",
    "* **Ordenada**: Los elementos tienen un cierto orden, lo que nos permite acceder al elemento que queramos teniendo en cuenta tal orden\n",
    "\n",
    "En cuanto a su sintaxis, cuando declaremos la lista simplemente hay que separar cada elemento con comas, y rodearlo todo con corchetes."
   ]
  },
  {
   "cell_type": "code",
   "execution_count": 1,
   "metadata": {},
   "outputs": [
    {
     "name": "stdout",
     "output_type": "stream",
     "text": [
      "[1, 2, 3, 4, 5, 6, 7]\n",
      "<class 'list'>\n"
     ]
    }
   ],
   "source": [
    "# lista de números\n",
    "\n",
    "numero = [1,2,3,4,5,6,7]\n",
    "print(numero)\n",
    "print(type(numero))"
   ]
  },
  {
   "cell_type": "code",
   "execution_count": 4,
   "metadata": {},
   "outputs": [
    {
     "name": "stdout",
     "output_type": "stream",
     "text": [
      "['Esto es una lista'] <class 'list'>\n",
      "[True, False, True, True, False]\n"
     ]
    }
   ],
   "source": [
    "# lista de strings\n",
    "strings = [\"Esto es una lista\"]\n",
    "print(strings, type(strings))\n",
    "\n",
    "#Lista de booleanos\n",
    "\n",
    "bool = [True, False, not False, True or False, False and False]\n",
    "print(bool)"
   ]
  },
  {
   "cell_type": "code",
   "execution_count": 10,
   "metadata": {},
   "outputs": [
    {
     "name": "stdout",
     "output_type": "stream",
     "text": [
      "['Esto es', 12, -34.5, True, False, 'lista'] <class 'list'>\n",
      "['Gola', '12', 23, [23, True, False]] <class 'list'>\n"
     ]
    }
   ],
   "source": [
    "# Lista de tipos mezclados\n",
    "mix = [\"Esto es\", 12, -34.5, True, False, \"lista\"]\n",
    "print(mix, type(mix))\n",
    "\n",
    "#Listas dentro de listas\n",
    "\n",
    "Listas = [\"Gola\", \"12\", 23, [23, True, False]]\n",
    "print(Listas, type(Listas))"
   ]
  },
  {
   "cell_type": "markdown",
   "metadata": {},
   "source": [
    "**NOTA**: ¿Ves por qué los decimales en Python siempre van con puntos y no con comas? Con las colecciones el intérprete de Python se volvería loco.\n",
    "\n",
    "Podemos ver tambien el tipo de la lista"
   ]
  },
  {
   "cell_type": "code",
   "execution_count": 11,
   "metadata": {},
   "outputs": [
    {
     "data": {
      "text/plain": [
       "4"
      ]
     },
     "execution_count": 11,
     "metadata": {},
     "output_type": "execute_result"
    }
   ],
   "source": [
    "len(Listas)"
   ]
  },
  {
   "cell_type": "code",
   "execution_count": 12,
   "metadata": {},
   "outputs": [
    {
     "data": {
      "text/plain": [
       "6"
      ]
     },
     "execution_count": 12,
     "metadata": {},
     "output_type": "execute_result"
    }
   ],
   "source": [
    "len(mix)"
   ]
  },
  {
   "cell_type": "code",
   "execution_count": 13,
   "metadata": {},
   "outputs": [
    {
     "name": "stdout",
     "output_type": "stream",
     "text": [
      "['Esto es', 12, -34.5, True, False, 'lista', 'Gola', '12', 23, [23, True, False]] <class 'list'>\n"
     ]
    }
   ],
   "source": [
    "concatenacion = mix + Listas\n",
    "print(concatenacion, type(concatenacion))"
   ]
  },
  {
   "cell_type": "markdown",
   "metadata": {},
   "source": [
    "Calcular la longitud de la misma mediante el método *built-in* ya visto: `len()`"
   ]
  },
  {
   "cell_type": "code",
   "execution_count": null,
   "metadata": {},
   "outputs": [],
   "source": []
  },
  {
   "cell_type": "markdown",
   "metadata": {},
   "source": [
    "Accedemos a los elemenos de la lista mediante corchetes `[]`\n",
    "\n",
    "**Importante**. El primer elemento es el 0"
   ]
  },
  {
   "cell_type": "code",
   "execution_count": 24,
   "metadata": {},
   "outputs": [
    {
     "name": "stdout",
     "output_type": "stream",
     "text": [
      "Esto\n",
      "Esto\n"
     ]
    },
    {
     "data": {
      "text/plain": [
       "4"
      ]
     },
     "execution_count": 24,
     "metadata": {},
     "output_type": "execute_result"
    }
   ],
   "source": [
    "lista_ejemplo = [\"Esto\",2,3,\"Patata\"]\n",
    "print(lista_ejemplo [-4])\n",
    "print(lista_ejemplo [0])\n",
    "len(lista_ejemplo)"
   ]
  },
  {
   "cell_type": "markdown",
   "metadata": {},
   "source": [
    "### Metodos en Listas  \n",
    "[al índice](#Contenidos)  \n",
    "\n",
    "Para el tipo de objeto lista, también hay una serie de métodos catacterísticos que nos permiten operar con ellas: añadir valores, quitarlos, indexado, filtrado, etc... En [este enlace](https://www.w3schools.com/python/python_ref_list.asp) puedes encontrar todos los métodos que podrás usar con listas."
   ]
  },
  {
   "cell_type": "code",
   "execution_count": 38,
   "metadata": {},
   "outputs": [
    {
     "name": "stdout",
     "output_type": "stream",
     "text": [
      "['Fisica, Quimica, Matematicas, Literatura', 'Filosofia']\n",
      "['Fisica, Quimica, Matematicas, Literatura', 'Educacion Fisica', 'Filosofia']\n",
      "['Fisica, Quimica, Matematicas, Literatura', 'Educacion Fisica', 'Filosofia']\n",
      "['Fisica, Quimica, Matematicas, Literatura', 'Educacion Fisica']\n",
      "['Educacion Fisica', 'Fisica, Quimica, Matematicas, Literatura']\n"
     ]
    }
   ],
   "source": [
    "asignaturas = [\"Fisica, Quimica, Matematicas, Literatura\"]\n",
    "\n",
    "# añadir un elemento a una lista\n",
    "asignaturas.append(\"Filosofia\")\n",
    "print(asignaturas)\n",
    "\n",
    "#añadir elementos en una posicion determinada\n",
    "asignaturas.insert(1,\"Educacion Fisica\")\n",
    "print(asignaturas)\n",
    "\n",
    "# Quitar elementos\n",
    "#asignaturas.clear()\n",
    "#print(asignaturas)\n",
    "\n",
    "# Quitar elemento a partir de su indice o posicion\n",
    "#asignaturas.pop(1)\n",
    "print(asignaturas)\n",
    "\n",
    "# Quitar un elemento por su valor\n",
    "asignaturas.remove(\"Filosofia\")\n",
    "print(asignaturas)\n",
    "\n",
    "# Ordenar la lista\n",
    "asignaturas.sort()\n",
    "print(asignaturas)"
   ]
  },
  {
   "cell_type": "code",
   "execution_count": null,
   "metadata": {},
   "outputs": [],
   "source": []
  },
  {
   "cell_type": "code",
   "execution_count": null,
   "metadata": {},
   "outputs": [],
   "source": []
  }
 ],
 "metadata": {
  "kernelspec": {
   "display_name": "Python 3 (ipykernel)",
   "language": "python",
   "name": "python3"
  },
  "language_info": {
   "codemirror_mode": {
    "name": "ipython",
    "version": 3
   },
   "file_extension": ".py",
   "mimetype": "text/x-python",
   "name": "python",
   "nbconvert_exporter": "python",
   "pygments_lexer": "ipython3",
   "version": "3.8.10"
  }
 },
 "nbformat": 4,
 "nbformat_minor": 4
}
